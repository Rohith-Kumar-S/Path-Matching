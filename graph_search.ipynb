{
 "cells": [
  {
   "cell_type": "code",
   "execution_count": 1,
   "id": "a1494b67",
   "metadata": {},
   "outputs": [],
   "source": [
    "import cv2\n",
    "import matplotlib.pyplot as plt\n",
    "import numpy as np\n",
    "import simple_graph as gs\n",
    "import Homework04 as gss"
   ]
  },
  {
   "cell_type": "code",
   "execution_count": 2,
   "id": "fe5d210f",
   "metadata": {},
   "outputs": [],
   "source": [
    "img_size=  (480, 640) "
   ]
  },
  {
   "cell_type": "code",
   "execution_count": 3,
   "id": "5db0379f",
   "metadata": {},
   "outputs": [
    {
     "data": {
      "text/plain": [
       "<matplotlib.image.AxesImage at 0x18dc61e0550>"
      ]
     },
     "execution_count": 3,
     "metadata": {},
     "output_type": "execute_result"
    },
    {
     "data": {
      "image/png": "[encoded data removed]",
      "text/plain": [
       "<Figure size 640x480 with 1 Axes>"
      ]
     },
     "metadata": {},
     "output_type": "display_data"
    }
   ],
   "source": [
    "obstacle_1 = np.ones(img_size, dtype=np.uint8)*255\n",
    "obstacle_1[100:150, 100:450] = 0\n",
    "obstacle_1[150:400, 150:150] = 0\n",
    "obstacle_1[150:400, 400:450] = 0\n",
    "obstacle_1[350:400, 200:400] = 0\n",
    "obstacle_1[100:400, 100:150] = 0\n",
    "obstacle_1[200:300, 200:250] = 0\n",
    "obstacle_1[250:300, 250:300] = 0\n",
    "obstacle_1[200:300, 300:350] = 0\n",
    "obstacle_1[220: 230, 270: 280] = 100\n",
    "obstacle_1[0: 10, 0: 10] = 100\n",
    "plt.imshow(obstacle_1, cmap='gray')"
   ]
  },
  {
   "cell_type": "code",
   "execution_count": 4,
   "id": "8c311895",
   "metadata": {},
   "outputs": [
    {
     "data": {
      "text/plain": [
       "array([[100, 100, 100, 100, 100, 100, 100, 100, 100, 100],\n",
       "       [100, 100, 100, 100, 100, 100, 100, 100, 100, 100],\n",
       "       [100, 100, 100, 100, 100, 100, 100, 100, 100, 100],\n",
       "       [100, 100, 100, 100, 100, 100, 100, 100, 100, 100],\n",
       "       [100, 100, 100, 100, 100, 100, 100, 100, 100, 100],\n",
       "       [100, 100, 100, 100, 100, 100, 100, 100, 100, 100],\n",
       "       [100, 100, 100, 100, 100, 100, 100, 100, 100, 100],\n",
       "       [100, 100, 100, 100, 100, 100, 100, 100, 100, 100],\n",
       "       [100, 100, 100, 100, 100, 100, 100, 100, 100, 100],\n",
       "       [100, 100, 100, 100, 100, 100, 100, 100, 100, 100]], dtype=uint8)"
      ]
     },
     "execution_count": 4,
     "metadata": {},
     "output_type": "execute_result"
    }
   ],
   "source": [
    "obstacle_1[0: 10, 0:10]"
   ]
  },
  {
   "cell_type": "code",
   "execution_count": 20,
   "id": "c8c00ed8",
   "metadata": {},
   "outputs": [],
   "source": [
    "left, right = np.arange(0, img_size[1], 10), np.arange(10, img_size[1]+10, 10)\n",
    "graph = []"
   ]
  },
  {
   "cell_type": "code",
   "execution_count": null,
   "id": "3a0d235a",
   "metadata": {},
   "outputs": [],
   "source": [
    "h = 0\n",
    "for i in range(img_size[0]):\n",
    "    for j in range(img_size[1]):\n",
    "        if obstacle_1[i,j] != 0:\n",
    "            graph.append(gs.Node(h, i, j))\n",
    "        else:\n",
    "            graph.append(None)\n",
    "        if ((640*i)+j)%640!=0 and graph[h-1]:\n",
    "            graph[h-1].addUndirectedNeighbor(graph[h])\n",
    "        if i!=0 and graph[640*(i-1)+j]:\n",
    "            graph[h].addUndirectedNeighbor(graph[640*(i-1)+j])\n",
    "        h+=1"
   ]
  },
  {
   "cell_type": "code",
   "execution_count": 22,
   "id": "0f8ceca1",
   "metadata": {},
   "outputs": [
    {
     "data": {
      "text/plain": [
       "1280"
      ]
     },
     "execution_count": 22,
     "metadata": {},
     "output_type": "execute_result"
    }
   ],
   "source": [
    "len(graph)"
   ]
  },
  {
   "cell_type": "code",
   "execution_count": null,
   "id": "e1b5ce16",
   "metadata": {},
   "outputs": [
    {
     "data": {
      "text/plain": [
       "641"
      ]
     },
     "execution_count": 26,
     "metadata": {},
     "output_type": "execute_result"
    },
    {
     "ename": "",
     "evalue": "",
     "output_type": "error",
     "traceback": [
      "\u001b[1;31mThe Kernel crashed while executing code in the current cell or a previous cell. \n",
      "\u001b[1;31mPlease review the code in the cell(s) to identify a possible cause of the failure. \n",
      "\u001b[1;31mClick <a href='https://aka.ms/vscodeJupyterKernelCrash'>here</a> for more info. \n",
      "\u001b[1;31mView Jupyter <a href='command:jupyter.viewOutput'>log</a> for further details."
     ]
    }
   ],
   "source": [
    "graph[640].neighbors()[1].id()"
   ]
  },
  {
   "cell_type": "code",
   "execution_count": 21,
   "id": "cf79d420",
   "metadata": {},
   "outputs": [
    {
     "name": "stdout",
     "output_type": "stream",
     "text": [
      "Graph:\n",
      "0 (0, 10) inf -> -1 []\n",
      "1 (0, 20) inf -> -1 []\n",
      "2 (0, 30) inf -> -1 []\n",
      "3 (0, 40) inf -> -1 []\n",
      "4 (0, 50) inf -> -1 []\n",
      "5 (0, 60) inf -> -1 []\n",
      "6 (0, 70) inf -> -1 []\n",
      "7 (0, 80) inf -> -1 []\n",
      "8 (0, 90) inf -> -1 []\n",
      "9 (0, 100) inf -> -1 []\n",
      "10 (0, 110) inf -> -1 []\n",
      "11 (0, 120) inf -> -1 []\n",
      "12 (0, 130) inf -> -1 []\n",
      "13 (0, 140) inf -> -1 []\n",
      "14 (0, 150) inf -> -1 []\n",
      "15 (0, 160) inf -> -1 []\n",
      "16 (0, 170) inf -> -1 []\n",
      "17 (0, 180) inf -> -1 []\n",
      "18 (0, 190) inf -> -1 []\n",
      "19 (0, 200) inf -> -1 []\n",
      "20 (0, 210) inf -> -1 []\n",
      "21 (0, 220) inf -> -1 []\n",
      "22 (0, 230) inf -> -1 []\n",
      "23 (0, 240) inf -> -1 []\n",
      "24 (0, 250) inf -> -1 []\n",
      "25 (0, 260) inf -> -1 []\n",
      "26 (0, 270) inf -> -1 []\n",
      "27 (0, 280) inf -> -1 []\n",
      "28 (0, 290) inf -> -1 []\n",
      "29 (0, 300) inf -> -1 []\n",
      "30 (0, 310) inf -> -1 []\n",
      "31 (0, 320) inf -> -1 []\n",
      "32 (0, 330) inf -> -1 []\n",
      "33 (0, 340) inf -> -1 []\n",
      "34 (0, 350) inf -> -1 []\n",
      "35 (0, 360) inf -> -1 []\n",
      "36 (0, 370) inf -> -1 []\n",
      "37 (0, 380) inf -> -1 []\n",
      "38 (0, 390) inf -> -1 []\n",
      "39 (0, 400) inf -> -1 []\n",
      "40 (0, 410) inf -> -1 []\n",
      "41 (0, 420) inf -> -1 []\n",
      "42 (0, 430) inf -> -1 []\n",
      "43 (0, 440) inf -> -1 []\n",
      "44 (0, 450) inf -> -1 []\n",
      "45 (0, 460) inf -> -1 []\n",
      "46 (0, 470) inf -> -1 []\n",
      "47 (0, 480) inf -> -1 []\n",
      "48 (0, 490) inf -> -1 []\n",
      "49 (0, 500) inf -> -1 []\n",
      "50 (0, 510) inf -> -1 []\n",
      "51 (0, 520) inf -> -1 []\n",
      "52 (0, 530) inf -> -1 []\n",
      "53 (0, 540) inf -> -1 []\n",
      "54 (0, 550) inf -> -1 []\n",
      "55 (0, 560) inf -> -1 []\n",
      "56 (0, 570) inf -> -1 []\n",
      "57 (0, 580) inf -> -1 []\n",
      "58 (0, 590) inf -> -1 []\n",
      "59 (0, 600) inf -> -1 []\n",
      "60 (0, 610) inf -> -1 []\n",
      "61 (0, 620) inf -> -1 []\n",
      "62 (0, 630) inf -> -1 []\n",
      "63 (0, 640) inf -> -1 []\n",
      "64 (10, 10) inf -> -1 []\n",
      "65 (10, 20) inf -> -1 []\n",
      "66 (10, 30) inf -> -1 []\n",
      "67 (10, 40) inf -> -1 []\n",
      "68 (10, 50) inf -> -1 []\n",
      "69 (10, 60) inf -> -1 []\n",
      "70 (10, 70) inf -> -1 []\n",
      "71 (10, 80) inf -> -1 []\n",
      "72 (10, 90) inf -> -1 []\n",
      "73 (10, 100) inf -> -1 []\n",
      "74 (10, 110) inf -> -1 []\n",
      "75 (10, 120) inf -> -1 []\n",
      "76 (10, 130) inf -> -1 []\n",
      "77 (10, 140) inf -> -1 []\n",
      "78 (10, 150) inf -> -1 []\n",
      "79 (10, 160) inf -> -1 []\n",
      "80 (10, 170) inf -> -1 []\n",
      "81 (10, 180) inf -> -1 []\n",
      "82 (10, 190) inf -> -1 []\n",
      "83 (10, 200) inf -> -1 []\n",
      "84 (10, 210) inf -> -1 []\n",
      "85 (10, 220) inf -> -1 []\n",
      "86 (10, 230) inf -> -1 []\n",
      "87 (10, 240) inf -> -1 []\n",
      "88 (10, 250) inf -> -1 []\n",
      "89 (10, 260) inf -> -1 []\n",
      "90 (10, 270) inf -> -1 []\n",
      "91 (10, 280) inf -> -1 []\n",
      "92 (10, 290) inf -> -1 []\n",
      "93 (10, 300) inf -> -1 []\n",
      "94 (10, 310) inf -> -1 []\n",
      "95 (10, 320) inf -> -1 []\n",
      "96 (10, 330) inf -> -1 []\n",
      "97 (10, 340) inf -> -1 []\n",
      "98 (10, 350) inf -> -1 []\n",
      "99 (10, 360) inf -> -1 []\n",
      "100 (10, 370) inf -> -1 []\n",
      "101 (10, 380) inf -> -1 []\n",
      "102 (10, 390) inf -> -1 []\n",
      "103 (10, 400) inf -> -1 []\n",
      "104 (10, 410) inf -> -1 []\n",
      "105 (10, 420) inf -> -1 []\n",
      "106 (10, 430) inf -> -1 []\n",
      "107 (10, 440) inf -> -1 []\n",
      "108 (10, 450) inf -> -1 []\n",
      "109 (10, 460) inf -> -1 []\n",
      "110 (10, 470) inf -> -1 []\n",
      "111 (10, 480) inf -> -1 []\n",
      "112 (10, 490) inf -> -1 []\n",
      "113 (10, 500) inf -> -1 []\n",
      "114 (10, 510) inf -> -1 []\n",
      "115 (10, 520) inf -> -1 []\n",
      "116 (10, 530) inf -> -1 []\n",
      "117 (10, 540) inf -> -1 []\n",
      "118 (10, 550) inf -> -1 []\n",
      "119 (10, 560) inf -> -1 []\n",
      "120 (10, 570) inf -> -1 []\n",
      "121 (10, 580) inf -> -1 []\n",
      "122 (10, 590) inf -> -1 []\n",
      "123 (10, 600) inf -> -1 []\n",
      "124 (10, 610) inf -> -1 []\n",
      "125 (10, 620) inf -> -1 []\n",
      "126 (10, 630) inf -> -1 []\n",
      "127 (10, 640) inf -> -1 []\n",
      "-1\n"
     ]
    }
   ],
   "source": [
    "print(\"Graph:\")\n",
    "for node in graph:\n",
    "    s = \"[\"\n",
    "    for n in node.neighbors():\n",
    "        s += str(n) + \", \"\n",
    "    s += \"]\"\n",
    "    print(node, s)\n",
    "    \n",
    "print(graph[2].pre())"
   ]
  },
  {
   "cell_type": "code",
   "execution_count": 16,
   "id": "92fccdf8",
   "metadata": {},
   "outputs": [],
   "source": [
    "for i in range(img_size[0]//10):\n",
    "    for j in range(len(left)):\n",
    "        \n",
    "        if left[i]>= 100 and right[i] <= 150 and left[j]>= 100 and right[j] <= 450:\n",
    "            graph.append(gs.Node((64*i)+j, left[i], right[i], left[j], right[j], 0))\n",
    "            continue\n",
    "        elif left[i]>= 150 and right[i] <= 400 and left[j]>= 150 and right[j] <= 150:\n",
    "            graph.append(gs.Node((64*i)+j, left[i], right[i], left[j], right[j], 0))\n",
    "            continue\n",
    "        elif left[i]>= 150 and right[i] <= 400 and left[j]>= 400 and right[j] <= 450:\n",
    "            graph.append(gs.Node((64*i)+j, left[i], right[i], left[j], right[j], 0))\n",
    "            continue\n",
    "        elif left[i]>= 350 and right[i] <= 400 and left[j]>= 200 and right[j] <= 400:\n",
    "            graph.append(gs.Node((64*i)+j, left[i], right[i], left[j], right[j], 0 ))\n",
    "            continue\n",
    "        elif left[i]>= 100 and right[i] <= 400 and left[j]>= 100 and right[j] <= 150:\n",
    "            graph.append(gs.Node((64*i)+j, left[i], right[i], left[j], right[j] , 0))\n",
    "            continue\n",
    "        elif left[i]>= 200 and right[i] <= 300 and left[j]>= 200 and right[j] <= 250:\n",
    "            graph.append(gs.Node((64*i)+j, left[i], right[i], left[j], right[j], 0  ))\n",
    "            continue\n",
    "        elif left[i]>= 250 and right[i] <= 300 and left[j]>= 250 and right[j] <= 300:\n",
    "            graph.append(gs.Node((64*i)+j, left[i], right[i], left[j], right[j], 0))\n",
    "            continue\n",
    "        elif left[i]>= 200 and right[i] <= 300 and left[j]>= 300 and right[j] <= 350:\n",
    "            graph.append(gs.Node((64*i)+j, left[i], right[i], left[j], right[j], 0))\n",
    "            continue\n",
    "\n",
    "\n",
    "        if ((64*i)+j)%64==0:\n",
    "            graph.append(gs.Node((64*i)+j, left[i], right[i], left[j], right[j], 1))\n",
    "        else:\n",
    "            graph.append(gs.Node((64*i)+j, left[i], right[i], left[j], right[j], 1))\n",
    "            graph[(64*i)+j-1].addUndirectedNeighbor(graph[(64*i)+j])   \n",
    "        \n",
    "        if i!=0:\n",
    "            graph[(64*i)+j].addUndirectedNeighbor(graph[64*(i-1)+j])"
   ]
  },
  {
   "cell_type": "code",
   "execution_count": 15,
   "id": "e1fab24a",
   "metadata": {},
   "outputs": [
    {
     "name": "stdout",
     "output_type": "stream",
     "text": [
      "Graph:\n"
     ]
    },
    {
     "ename": "AttributeError",
     "evalue": "'Node' object has no attribute 'val'",
     "output_type": "error",
     "traceback": [
      "\u001b[31m---------------------------------------------------------------------------\u001b[39m",
      "\u001b[31mAttributeError\u001b[39m                            Traceback (most recent call last)",
      "\u001b[36mCell\u001b[39m\u001b[36m \u001b[39m\u001b[32mIn[15]\u001b[39m\u001b[32m, line 4\u001b[39m\n\u001b[32m      2\u001b[39m \u001b[38;5;28;01mfor\u001b[39;00m node \u001b[38;5;129;01min\u001b[39;00m graph:\n\u001b[32m      3\u001b[39m     s = \u001b[33m\"\u001b[39m\u001b[33m[\u001b[39m\u001b[33m\"\u001b[39m\n\u001b[32m----> \u001b[39m\u001b[32m4\u001b[39m     \u001b[38;5;28;01mif\u001b[39;00m node.val() == \u001b[32m0\u001b[39m:\n\u001b[32m      5\u001b[39m         \u001b[38;5;28;01mfor\u001b[39;00m n \u001b[38;5;129;01min\u001b[39;00m node.neighbors():\n\u001b[32m      6\u001b[39m             s += \u001b[38;5;28mstr\u001b[39m(n) + \u001b[33m\"\u001b[39m\u001b[33m, \u001b[39m\u001b[33m\"\u001b[39m\n",
      "\u001b[31mAttributeError\u001b[39m: 'Node' object has no attribute 'val'"
     ]
    }
   ],
   "source": [
    "print(\"Graph:\")\n",
    "for node in graph:\n",
    "    s = \"[\"\n",
    "    if node.val() == 0:\n",
    "        for n in node.neighbors():\n",
    "            s += str(n) + \", \"\n",
    "        s += \"]\"\n",
    "        print(node, s)\n",
    "    \n",
    "print(graph[2].pre())"
   ]
  },
  {
   "cell_type": "code",
   "execution_count": 18,
   "id": "fd30be76",
   "metadata": {},
   "outputs": [
    {
     "name": "stdout",
     "output_type": "stream",
     "text": [
      "1435 (220, 230, 270, 280) inf -> -1\n"
     ]
    }
   ],
   "source": [
    "print(graph[1435])"
   ]
  },
  {
   "cell_type": "code",
   "execution_count": 19,
   "id": "547295d4",
   "metadata": {},
   "outputs": [
    {
     "name": "stdout",
     "output_type": "stream",
     "text": [
      "1435 (220, 230, 270, 280) inf -> -1\n"
     ]
    }
   ],
   "source": [
    "print(graph[1435])"
   ]
  },
  {
   "cell_type": "code",
   "execution_count": 20,
   "id": "e2780ea5",
   "metadata": {},
   "outputs": [
    {
     "data": {
      "text/plain": [
       "3072"
      ]
     },
     "execution_count": 20,
     "metadata": {},
     "output_type": "execute_result"
    }
   ],
   "source": [
    "48*64"
   ]
  },
  {
   "cell_type": "code",
   "execution_count": 21,
   "id": "073f3d38",
   "metadata": {},
   "outputs": [],
   "source": [
    "gss.bfs(graph, verbose=False)"
   ]
  },
  {
   "cell_type": "code",
   "execution_count": 22,
   "id": "d3249fb6",
   "metadata": {},
   "outputs": [
    {
     "data": {
      "text/plain": [
       "True"
      ]
     },
     "execution_count": 22,
     "metadata": {},
     "output_type": "execute_result"
    }
   ],
   "source": [
    "graph[1435].visited()"
   ]
  },
  {
   "cell_type": "code",
   "execution_count": 23,
   "id": "3f529711",
   "metadata": {},
   "outputs": [],
   "source": [
    "node = graph[1435]\n",
    "while node.parent()!=-1:\n",
    "    # print(node.parent().id())\n",
    "    node = node.parent()\n",
    "    x1, y1, x2, y2 = node.get_coordinates()\n",
    "    # print(y1, y2, x1, x2)\n",
    "    obstacle_1[y1:y2, x1:x2] = 70\n",
    "    "
   ]
  },
  {
   "cell_type": "code",
   "execution_count": 14,
   "id": "3e4c1c89",
   "metadata": {},
   "outputs": [
    {
     "data": {
      "text/plain": [
       "<matplotlib.image.AxesImage at 0x1fdce9452d0>"
      ]
     },
     "execution_count": 14,
     "metadata": {},
     "output_type": "execute_result"
    },
    {
     "data": {
      "image/png": "[encoded data removed]",
      "text/plain": [
       "<Figure size 640x480 with 1 Axes>"
      ]
     },
     "metadata": {},
     "output_type": "display_data"
    }
   ],
   "source": [
    "plt.imshow(obstacle_1, cmap='gray')"
   ]
  },
  {
   "cell_type": "code",
   "execution_count": 24,
   "id": "7c05b555",
   "metadata": {},
   "outputs": [
    {
     "data": {
      "text/plain": [
       "<matplotlib.image.AxesImage at 0x1de06836210>"
      ]
     },
     "execution_count": 24,
     "metadata": {},
     "output_type": "execute_result"
    },
    {
     "data": {
      "image/png": "[encoded data removed]",
      "text/plain": [
       "<Figure size 640x480 with 1 Axes>"
      ]
     },
     "metadata": {},
     "output_type": "display_data"
    }
   ],
   "source": [
    "plt.imshow(obstacle_1, cmap='gray')"
   ]
  },
  {
   "cell_type": "code",
   "execution_count": null,
   "id": "c0710972",
   "metadata": {},
   "outputs": [],
   "source": []
  }
 ],
 "metadata": {
  "kernelspec": {
   "display_name": "cv_env_20250327",
   "language": "python",
   "name": "python3"
  },
  "language_info": {
   "codemirror_mode": {
    "name": "ipython",
    "version": 3
   },
   "file_extension": ".py",
   "mimetype": "text/x-python",
   "name": "python",
   "nbconvert_exporter": "python",
   "pygments_lexer": "ipython3",
   "version": "3.11.11"
  }
 },
 "nbformat": 4,
 "nbformat_minor": 5
}
