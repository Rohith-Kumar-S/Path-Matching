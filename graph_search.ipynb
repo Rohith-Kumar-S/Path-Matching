{
 "cells": [
  {
   "cell_type": "code",
   "execution_count": 1,
   "id": "a1494b67",
   "metadata": {},
   "outputs": [],
   "source": [
    "import cv2\n",
    "import matplotlib.pyplot as plt\n",
    "import numpy as np\n",
    "import simple_graph_modified as gs\n",
    "import Homework04 as gss"
   ]
  },
  {
   "cell_type": "code",
   "execution_count": 2,
   "id": "fe5d210f",
   "metadata": {},
   "outputs": [],
   "source": [
    "img_size=  (480, 640) "
   ]
  },
  {
   "cell_type": "code",
   "execution_count": 123,
   "id": "5db0379f",
   "metadata": {},
   "outputs": [
    {
     "data": {
      "text/plain": [
       "<matplotlib.image.AxesImage at 0x187da5e3f10>"
      ]
     },
     "execution_count": 123,
     "metadata": {},
     "output_type": "execute_result"
    },
    {
     "data": {
      "image/png": "[encoded data removed]",
      "text/plain": [
       "<Figure size 640x480 with 1 Axes>"
      ]
     },
     "metadata": {},
     "output_type": "display_data"
    }
   ],
   "source": [
    "obstacle_1 = np.ones(img_size, dtype=np.uint8)*255\n",
    "obstacle_1[100:150, 100:450] = 0\n",
    "obstacle_1[150:400, 150:150] = 0\n",
    "obstacle_1[150:400, 400:450] = 0\n",
    "obstacle_1[350:400, 200:400] = 0\n",
    "obstacle_1[100:400, 100:150] = 0\n",
    "obstacle_1[200:300, 200:250] = 0\n",
    "obstacle_1[250:300, 250:300] = 0\n",
    "obstacle_1[200:300, 300:350] = 0\n",
    "plt.imshow(obstacle_1, cmap='gray')"
   ]
  },
  {
   "cell_type": "code",
   "execution_count": 4,
   "id": "8c311895",
   "metadata": {},
   "outputs": [
    {
     "data": {
      "text/plain": [
       "np.uint64(0)"
      ]
     },
     "execution_count": 4,
     "metadata": {},
     "output_type": "execute_result"
    }
   ],
   "source": [
    "obstacle_1[0: 10, 0:10].sum()%255"
   ]
  },
  {
   "cell_type": "code",
   "execution_count": null,
   "id": "c8c00ed8",
   "metadata": {},
   "outputs": [],
   "source": [
    "left, right = np.arange(0, img_size[1], 10), np.arange(10, img_size[1]+10, 10)\n"
   ]
  },
  {
   "cell_type": "code",
   "execution_count": 99,
   "id": "3a0d235a",
   "metadata": {},
   "outputs": [],
   "source": [
    "# h = 0\n",
    "# points = []\n",
    "# for i in range(img_size[0]):\n",
    "#     for j in range(img_size[1]):\n",
    "#         if obstacle_1[i,j] == 100:\n",
    "#             points.append((i, j, len(graph)))\n",
    "#         if obstacle_1[i,j] != 0:\n",
    "#             graph.append(gs.Node(h, i, j))\n",
    "#         else:\n",
    "#             graph.append(None)\n",
    "#         if ((640*i)+j)%640!=0 and graph[h-1] and graph[h]:\n",
    "#             graph[h-1].addUndirectedNeighbor(graph[h])\n",
    "#         if i!=0 and graph[640*(i-1)+j] and graph[h]:\n",
    "#             graph[h].addUndirectedNeighbor(graph[640*(i-1)+j])\n",
    "#         h+=1"
   ]
  },
  {
   "cell_type": "code",
   "execution_count": null,
   "id": "23962568",
   "metadata": {},
   "outputs": [],
   "source": [
    "# h = 0\n",
    "# points = []\n",
    "# kernel_size = 10\n",
    "# stride = 1\n",
    "# for i in range(img_size[0]//stride):\n",
    "#     for j in range(img_size[1]//stride):\n",
    "#         if obstacle_1[ stride * i: kernel_size +  stride * i,  stride * j: kernel_size + stride * j].sum() == (255*kernel_size*kernel_size):\n",
    "#             graph.append(gs.Node(h, stride * i, kernel_size +  stride * i, stride * j, kernel_size + stride * j))\n",
    "#         else:\n",
    "#             graph.append(None)\n",
    "#         if (((img_size[1] //  stride) * i) + j )% (img_size[1]//stride) != 0 and graph[h - 1] and graph[h]:\n",
    "#             graph[h - 1].addUndirectedNeighbor(graph[h])\n",
    "#         if i != 0 and graph[img_size[1] // stride * (i - 1) + j] and graph[h]:\n",
    "#             graph[h].addUndirectedNeighbor(graph[img_size[1] // stride * (i - 1) + j])\n",
    "#         h += 1"
   ]
  },
  {
   "cell_type": "code",
   "execution_count": null,
   "id": "19354ec1",
   "metadata": {},
   "outputs": [
    {
     "name": "stdout",
     "output_type": "stream",
     "text": [
      "hello 1 63 63 63\n"
     ]
    }
   ],
   "source": [
    "h = 0\n",
    "graph = []\n",
    "points = []\n",
    "kernel_size = 10\n",
    "stride = 10\n",
    "for i in range(img_size[0]//stride):\n",
    "    for j in range(img_size[1]//stride):\n",
    "        if obstacle_1[ stride * i: kernel_size +  stride * i,  stride * j: kernel_size + stride * j].sum() == (255*kernel_size*kernel_size):\n",
    "            graph.append(gs.Node(h, stride * i, kernel_size +  stride * i, stride * j, kernel_size + stride * j))\n",
    "        else:\n",
    "            graph.append(None)\n",
    "        if (((img_size[1] //  stride) * i) + j )% (img_size[1]//stride) != 0 and graph[h - 1] and graph[h]:\n",
    "            graph[h - 1].addUndirectedNeighbor(graph[h])\n",
    "        if i != 0 and graph[img_size[1] // stride * (i - 1) + j] and graph[h]:\n",
    "            graph[h].addUndirectedNeighbor(graph[img_size[1] // stride * (i - 1) + j])\n",
    "        if i != 0 and (((img_size[1] //  stride) * i) + j )% (img_size[1]//stride) != 0  and graph[img_size[1] // stride * (i - 1) + j-1] and graph[h]:\n",
    "            graph[h].addUndirectedNeighbor(graph[img_size[1] // stride * (i - 1) + j - 1])\n",
    "        if i != 0 and (((img_size[1] //  stride) * i) + j ) - ((img_size[1] //  stride) * i) != ((img_size[1]-stride)//stride)  and graph[img_size[1] // stride * (i - 1) + j + 1] and graph[h]:\n",
    "            graph[h].addUndirectedNeighbor(graph[img_size[1] // stride * (i - 1) + j + 1])\n",
    "        h += 1"
   ]
  },
  {
   "cell_type": "code",
   "execution_count": 110,
   "id": "0f8ceca1",
   "metadata": {},
   "outputs": [
    {
     "data": {
      "text/plain": [
       "3072"
      ]
     },
     "execution_count": 110,
     "metadata": {},
     "output_type": "execute_result"
    }
   ],
   "source": [
    "len(graph)"
   ]
  },
  {
   "cell_type": "code",
   "execution_count": 96,
   "id": "7d43e23c",
   "metadata": {},
   "outputs": [
    {
     "data": {
      "text/plain": [
       "(200, 210, 270, 280)"
      ]
     },
     "execution_count": 96,
     "metadata": {},
     "output_type": "execute_result"
    }
   ],
   "source": [
    "graph[1307].get_coordinates()"
   ]
  },
  {
   "cell_type": "code",
   "execution_count": 120,
   "id": "e1b5ce16",
   "metadata": {},
   "outputs": [
    {
     "name": "stdout",
     "output_type": "stream",
     "text": [
      "0\n",
      "65\n",
      "128\n",
      "129\n"
     ]
    }
   ],
   "source": [
    "for i in graph[64].neighbors():\n",
    "    print(i.id())"
   ]
  },
  {
   "cell_type": "code",
   "execution_count": 136,
   "id": "1c687e33",
   "metadata": {},
   "outputs": [
    {
     "name": "stdout",
     "output_type": "stream",
     "text": [
      "0\n",
      "1\n",
      "65\n",
      "127\n",
      "128\n",
      "129\n"
     ]
    }
   ],
   "source": [
    "for i in graph[64].neighbors():\n",
    "    print(i.id())"
   ]
  },
  {
   "cell_type": "code",
   "execution_count": 57,
   "id": "cf79d420",
   "metadata": {},
   "outputs": [],
   "source": [
    "obstacle_ref = np.zeros_like(obstacle_1, dtype=np.uint8)\n",
    "for node in graph:\n",
    "    if node:\n",
    "        y1, y2, x1,x2 = node.get_coordinates()\n",
    "        obstacle_ref[y1:y2, x1:x2] = 1"
   ]
  },
  {
   "cell_type": "code",
   "execution_count": 58,
   "id": "01866e51",
   "metadata": {},
   "outputs": [
    {
     "data": {
      "text/plain": [
       "array([[1, 1, 1, ..., 1, 1, 1],\n",
       "       [1, 1, 1, ..., 1, 1, 1],\n",
       "       [1, 1, 1, ..., 1, 1, 1],\n",
       "       ...,\n",
       "       [1, 1, 1, ..., 1, 1, 1],\n",
       "       [1, 1, 1, ..., 1, 1, 1],\n",
       "       [1, 1, 1, ..., 1, 1, 1]], dtype=uint8)"
      ]
     },
     "execution_count": 58,
     "metadata": {},
     "output_type": "execute_result"
    }
   ],
   "source": [
    "obstacle_ref"
   ]
  },
  {
   "cell_type": "code",
   "execution_count": 59,
   "id": "3258eeb8",
   "metadata": {},
   "outputs": [
    {
     "data": {
      "text/plain": [
       "<matplotlib.image.AxesImage at 0x187d3e699d0>"
      ]
     },
     "execution_count": 59,
     "metadata": {},
     "output_type": "execute_result"
    },
    {
     "data": {
      "image/png": "[encoded data removed]",
      "text/plain": [
       "<Figure size 640x480 with 1 Axes>"
      ]
     },
     "metadata": {},
     "output_type": "display_data"
    }
   ],
   "source": [
    "plt.imshow(obstacle_ref, cmap='gray')"
   ]
  },
  {
   "cell_type": "code",
   "execution_count": 12,
   "id": "92fccdf8",
   "metadata": {},
   "outputs": [],
   "source": [
    "# for i in range(img_size[0]//10):\n",
    "#     for j in range(len(left)):\n",
    "        \n",
    "#         if left[i]>= 100 and right[i] <= 150 and left[j]>= 100 and right[j] <= 450:\n",
    "#             graph.append(gs.Node((64*i)+j, left[i], right[i], left[j], right[j], 0))\n",
    "#             continue\n",
    "#         elif left[i]>= 150 and right[i] <= 400 and left[j]>= 150 and right[j] <= 150:\n",
    "#             graph.append(gs.Node((64*i)+j, left[i], right[i], left[j], right[j], 0))\n",
    "#             continue\n",
    "#         elif left[i]>= 150 and right[i] <= 400 and left[j]>= 400 and right[j] <= 450:\n",
    "#             graph.append(gs.Node((64*i)+j, left[i], right[i], left[j], right[j], 0))\n",
    "#             continue\n",
    "#         elif left[i]>= 350 and right[i] <= 400 and left[j]>= 200 and right[j] <= 400:\n",
    "#             graph.append(gs.Node((64*i)+j, left[i], right[i], left[j], right[j], 0 ))\n",
    "#             continue\n",
    "#         elif left[i]>= 100 and right[i] <= 400 and left[j]>= 100 and right[j] <= 150:\n",
    "#             graph.append(gs.Node((64*i)+j, left[i], right[i], left[j], right[j] , 0))\n",
    "#             continue\n",
    "#         elif left[i]>= 200 and right[i] <= 300 and left[j]>= 200 and right[j] <= 250:\n",
    "#             graph.append(gs.Node((64*i)+j, left[i], right[i], left[j], right[j], 0  ))\n",
    "#             continue\n",
    "#         elif left[i]>= 250 and right[i] <= 300 and left[j]>= 250 and right[j] <= 300:\n",
    "#             graph.append(gs.Node((64*i)+j, left[i], right[i], left[j], right[j], 0))\n",
    "#             continue\n",
    "#         elif left[i]>= 200 and right[i] <= 300 and left[j]>= 300 and right[j] <= 350:\n",
    "#             graph.append(gs.Node((64*i)+j, left[i], right[i], left[j], right[j], 0))\n",
    "#             continue\n",
    "\n",
    "\n",
    "#         if ((64*i)+j)%64==0:\n",
    "#             graph.append(gs.Node((64*i)+j, left[i], right[i], left[j], right[j], 1))\n",
    "#         else:\n",
    "#             graph.append(gs.Node((64*i)+j, left[i], right[i], left[j], right[j], 1))\n",
    "#             graph[(64*i)+j-1].addUndirectedNeighbor(graph[(64*i)+j])   \n",
    "        \n",
    "#         if i!=0:\n",
    "#             graph[(64*i)+j].addUndirectedNeighbor(graph[64*(i-1)+j])"
   ]
  },
  {
   "cell_type": "code",
   "execution_count": 13,
   "id": "e1fab24a",
   "metadata": {},
   "outputs": [],
   "source": [
    "# print(\"Graph:\")\n",
    "# for node in graph:\n",
    "#     s = \"[\"\n",
    "#     if node.val() == 0:\n",
    "#         for n in node.neighbors():\n",
    "#             s += str(n) + \", \"\n",
    "#         s += \"]\"\n",
    "#         print(node, s)\n",
    "    \n",
    "# print(graph[2].pre())"
   ]
  },
  {
   "cell_type": "code",
   "execution_count": 74,
   "id": "fd30be76",
   "metadata": {},
   "outputs": [
    {
     "data": {
      "text/plain": [
       "307200"
      ]
     },
     "execution_count": 74,
     "metadata": {},
     "output_type": "execute_result"
    }
   ],
   "source": [
    "len(graph)"
   ]
  },
  {
   "cell_type": "code",
   "execution_count": 16,
   "id": "547295d4",
   "metadata": {},
   "outputs": [
    {
     "name": "stdout",
     "output_type": "stream",
     "text": [
      "144275 (225, 275) inf -> -1\n"
     ]
    }
   ],
   "source": [
    "print(graph[points[1][-1]])"
   ]
  },
  {
   "cell_type": "code",
   "execution_count": 110,
   "id": "3560974e",
   "metadata": {},
   "outputs": [],
   "source": [
    "obstacle_1[200: 225, 275: 300] = 100"
   ]
  },
  {
   "cell_type": "code",
   "execution_count": 103,
   "id": "073f3d38",
   "metadata": {},
   "outputs": [],
   "source": [
    "gss.bfs(graph, verbose=False)"
   ]
  },
  {
   "cell_type": "code",
   "execution_count": 79,
   "id": "d3249fb6",
   "metadata": {},
   "outputs": [
    {
     "data": {
      "text/plain": [
       "(201, 211, 260, 270)"
      ]
     },
     "execution_count": 79,
     "metadata": {},
     "output_type": "execute_result"
    }
   ],
   "source": [
    "graph[128900].get_coordinates()"
   ]
  },
  {
   "cell_type": "code",
   "execution_count": 80,
   "id": "137e2930",
   "metadata": {},
   "outputs": [
    {
     "data": {
      "text/plain": [
       "True"
      ]
     },
     "execution_count": 80,
     "metadata": {},
     "output_type": "execute_result"
    }
   ],
   "source": [
    "graph[128900].visited()"
   ]
  },
  {
   "cell_type": "code",
   "execution_count": 104,
   "id": "3f529711",
   "metadata": {},
   "outputs": [],
   "source": [
    "node = graph[1307]\n",
    "while node.parent()!=-1:\n",
    "    # print(node.parent().id())\n",
    "    node = node.parent()\n",
    "    y1, y2, x1,x2 = node.get_coordinates()\n",
    "    obstacle_1[y1:y2, x1:x2] = 70\n",
    "    "
   ]
  },
  {
   "cell_type": "code",
   "execution_count": 105,
   "id": "3e4c1c89",
   "metadata": {},
   "outputs": [
    {
     "data": {
      "text/plain": [
       "<matplotlib.image.AxesImage at 0x187dba29dd0>"
      ]
     },
     "execution_count": 105,
     "metadata": {},
     "output_type": "execute_result"
    },
    {
     "data": {
      "image/png": "[encoded data removed]",
      "text/plain": [
       "<Figure size 640x480 with 1 Axes>"
      ]
     },
     "metadata": {},
     "output_type": "display_data"
    }
   ],
   "source": [
    "plt.imshow(obstacle_1, cmap='gray')"
   ]
  },
  {
   "cell_type": "code",
   "execution_count": null,
   "id": "c0710972",
   "metadata": {},
   "outputs": [],
   "source": []
  }
 ],
 "metadata": {
  "kernelspec": {
   "display_name": "cv_env_20250327",
   "language": "python",
   "name": "python3"
  },
  "language_info": {
   "codemirror_mode": {
    "name": "ipython",
    "version": 3
   },
   "file_extension": ".py",
   "mimetype": "text/x-python",
   "name": "python",
   "nbconvert_exporter": "python",
   "pygments_lexer": "ipython3",
   "version": "3.11.11"
  }
 },
 "nbformat": 4,
 "nbformat_minor": 5
}
